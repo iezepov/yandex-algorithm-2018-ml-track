{
 "cells": [
  {
   "cell_type": "code",
   "execution_count": null,
   "metadata": {
    "ExecuteTime": {
     "end_time": "2018-04-27T10:04:41.260328Z",
     "start_time": "2018-04-27T10:04:40.741058Z"
    }
   },
   "outputs": [],
   "source": [
    "import pandas as pd"
   ]
  },
  {
   "cell_type": "code",
   "execution_count": null,
   "metadata": {
    "ExecuteTime": {
     "end_time": "2018-04-27T10:04:46.397796Z",
     "start_time": "2018-04-27T10:04:45.957718Z"
    }
   },
   "outputs": [],
   "source": [
    "scores = pd.merge(pd.read_csv('lgb_scores.csv'), pd.read_csv('nn_scores.csv'))\n",
    "scores['score'] = scores.lgb_score + 0.5 * scores.nn_score\n",
    "scores.head()"
   ]
  },
  {
   "cell_type": "code",
   "execution_count": null,
   "metadata": {
    "ExecuteTime": {
     "end_time": "2018-04-27T10:05:36.607343Z",
     "start_time": "2018-04-27T10:05:26.747852Z"
    }
   },
   "outputs": [],
   "source": [
    "sub = scores.groupby('context_id').apply(\n",
    "    lambda x: x.sort_values('score', ascending=False).reply_id\n",
    ").reset_index(level=0)\n",
    "\n",
    "sub.to_csv('combined-final-sub.tsv', index=False, header=False, sep='\\t')"
   ]
  }
 ],
 "metadata": {
  "kernelspec": {
   "display_name": "Python 3",
   "language": "python",
   "name": "python3"
  },
  "language_info": {
   "codemirror_mode": {
    "name": "ipython",
    "version": 3
   },
   "file_extension": ".py",
   "mimetype": "text/x-python",
   "name": "python",
   "nbconvert_exporter": "python",
   "pygments_lexer": "ipython3",
   "version": "3.6.5"
  }
 },
 "nbformat": 4,
 "nbformat_minor": 2
}
